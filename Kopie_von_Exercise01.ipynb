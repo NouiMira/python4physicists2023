{
  "cells": [
    {
      "cell_type": "markdown",
      "metadata": {
        "id": "view-in-github",
        "colab_type": "text"
      },
      "source": [
        "<a href=\"https://colab.research.google.com/github/NouiMira/python4physicists2023/blob/main/Kopie_von_Exercise01.ipynb\" target=\"_parent\"><img src=\"https://colab.research.google.com/assets/colab-badge.svg\" alt=\"Open In Colab\"/></a>"
      ]
    },
    {
      "cell_type": "markdown",
      "id": "de05216f-c657-4782-852e-28e3d35844cf",
      "metadata": {
        "id": "de05216f-c657-4782-852e-28e3d35844cf"
      },
      "source": [
        "# Problem 1: Some basics about data types and lists"
      ]
    },
    {
      "cell_type": "markdown",
      "id": "ee2c02b9-78a4-497b-8320-6686fd7fd590",
      "metadata": {
        "id": "ee2c02b9-78a4-497b-8320-6686fd7fd590"
      },
      "source": [
        "**(A)** Below you find the list \"SN_unsorted\" which contains 5 supernovae that have occurred this year. The elements are a mixture of the name, brightness, type, host, and redshift of the supernovae.\n",
        "\n",
        "At first, write down the number of strings, integers, and floats. After that, write a short code that allows you to print all elements of type float."
      ]
    },
    {
      "cell_type": "code",
      "execution_count": 4,
      "id": "f2ff0403-f192-4394-bbf0-a342a43146fa",
      "metadata": {
        "id": "f2ff0403-f192-4394-bbf0-a342a43146fa"
      },
      "outputs": [],
      "source": [
        "SN_unsorted = ['2023rve', '2023fyq', '2023ixf', '2023oho', '2023uda', 14.4, 14.7, 15, 15.8, 16, 'SN II', 'SN Ib', 'SN II', 'SN Ia', 'SN Ia', 0.004, 0.008, 0.001, 0.011, 0.015, 'NGC 1097', 'NGC 4388', 'M101', 'KUG 0227-106', 'CGCG 424-007']\n"
      ]
    },
    {
      "cell_type": "code",
      "source": [
        "str_count = 0\n",
        "int_count = 0\n",
        "float_count = 0\n",
        "for i in SN_unsorted:\n",
        "   if isinstance(i, str):\n",
        "      str_count += 1\n",
        "   elif isinstance(i, int):\n",
        "      int_count += 1\n",
        "   elif isinstance(i, float):\n",
        "      float_count += 1\n",
        "print(\"Number of strings:\", str_count)\n",
        "print(\"Number of integers:\", int_count)\n",
        "print(\"Number of floats:\", float_count)\n",
        "print(\"Elements of type float:\")\n",
        "for i in SN_unsorted:\n",
        "    if isinstance(i , float):\n",
        "      print(i)"
      ],
      "metadata": {
        "id": "G95RoZORNa_M",
        "outputId": "1c1988f3-1a09-4f02-9458-5b46f0dcd486",
        "colab": {
          "base_uri": "https://localhost:8080/"
        }
      },
      "id": "G95RoZORNa_M",
      "execution_count": 5,
      "outputs": [
        {
          "output_type": "stream",
          "name": "stdout",
          "text": [
            "Number of strings: 15\n",
            "Number of integers: 2\n",
            "Number of floats: 8\n",
            "Elements of type float:\n",
            "14.4\n",
            "14.7\n",
            "15.8\n",
            "0.004\n",
            "0.008\n",
            "0.001\n",
            "0.011\n",
            "0.015\n"
          ]
        }
      ]
    },
    {
      "cell_type": "markdown",
      "id": "ccda0b39-7fdd-4290-afc1-85bf0ce56f79",
      "metadata": {
        "id": "ccda0b39-7fdd-4290-afc1-85bf0ce56f79"
      },
      "source": [
        "**(B)** The following lists contain the same values as before but sorted. The order is the same for all 5 lists (the first element of each list belongs to the first SN, the second elements to second Sn and so on).\n",
        "Now, the integers from the previous cell are written as floats.\n",
        "\n",
        "Even if you could just read the values from the top to the bottom, it is more convenient to read them horizontally.\n",
        "Write a short code that allows you to print the values for each supernova in the scheme: name, type, magnitude (list SN_mag), redshift, host.\n",
        "\n",
        "Since you can encounter very large lists in real life, think about a simple way to show which unique types of Supernovae are represented in the list.  "
      ]
    },
    {
      "cell_type": "code",
      "execution_count": 6,
      "id": "7b76c340-752a-4e26-b5b3-100ee41dff18",
      "metadata": {
        "id": "7b76c340-752a-4e26-b5b3-100ee41dff18"
      },
      "outputs": [],
      "source": [
        "SN_name = ['2023rve', '2023fyq', '2023ixf', '2023oho', '2023uda']\n",
        "SN_mag = [14.4, 14.7, 15.0, 15.8, 16.0]\n",
        "SN_type = ['SN II', 'SN Ib', 'SN II', 'SN Ia', 'SN Ia']\n",
        "SN_redshift = [0.004, 0.008, 0.001, 0.011, 0.015]\n",
        "SN_host = ['NGC 1097', 'NGC 4388', 'M101', 'KUG 0227-106', 'CGCG 424-007']\n"
      ]
    },
    {
      "cell_type": "code",
      "execution_count": 8,
      "id": "3df8656e-0875-40c6-86c1-066c121f9296",
      "metadata": {
        "id": "3df8656e-0875-40c6-86c1-066c121f9296",
        "outputId": "149e2521-e214-4fe7-af81-e54b65bcc2a9",
        "colab": {
          "base_uri": "https://localhost:8080/"
        }
      },
      "outputs": [
        {
          "output_type": "stream",
          "name": "stdout",
          "text": [
            "['2023rve', 'SN II', 14.4, 0.004, 'NGC 1097']\n",
            "['2023fyq', 'SN Ib', 14.7, 0.008, 'NGC 4388']\n",
            "['2023ixf', 'SN II', 15.0, 0.001, 'M101']\n",
            "['2023oho', 'SN Ia', 15.8, 0.011, 'KUG 0227-106']\n",
            "['2023uda', 'SN Ia', 16.0, 0.015, 'CGCG 424-007']\n"
          ]
        }
      ],
      "source": [
        "for i in range(5) :\n",
        "    b=[SN_name[i], SN_type[i], SN_mag[i],SN_redshift[i],SN_host[i]]\n",
        "    print(b)"
      ]
    },
    {
      "cell_type": "markdown",
      "id": "c98be09e-3f27-40a0-bf7b-9f741a3478f3",
      "metadata": {
        "id": "c98be09e-3f27-40a0-bf7b-9f741a3478f3"
      },
      "source": [
        "**(C)** Now you want to add SN 1987A (use as name just 1987A) to the lists. SN 1987A was a type II (SN II) supernova with a magnitude of 4.5 mag,\n",
        "that occurred in the Large Magellanic Cloud (LMC) in the year 1987. Because it was so close, we assume the reshift to be 0.\n",
        "You can add the values and elements simply at the end of the lists. Check for each list, if it is working! You can use your code from the cell above."
      ]
    },
    {
      "cell_type": "code",
      "execution_count": null,
      "id": "6294a377-cf09-4c00-a9dd-f90c1d847fa5",
      "metadata": {
        "id": "6294a377-cf09-4c00-a9dd-f90c1d847fa5"
      },
      "outputs": [],
      "source": [
        "SN_name.append( \"1987A\" )\n",
        "SN_mag.append(4.5)\n",
        "SN_type.append(\"SN II\")\n",
        "SN_redshift.append(0)\n",
        "SN_host.append(\"LMC\")\n"
      ]
    },
    {
      "cell_type": "markdown",
      "id": "f4cc2ab4-c995-4526-a883-03f6ab87e4ed",
      "metadata": {
        "id": "f4cc2ab4-c995-4526-a883-03f6ab87e4ed"
      },
      "source": [
        "**(D)** Now, delete all elements that belong to SN 2023rve! Check it again."
      ]
    },
    {
      "cell_type": "code",
      "execution_count": null,
      "id": "8dd9967c-617e-4322-a9ab-5229ee8da1e8",
      "metadata": {
        "id": "8dd9967c-617e-4322-a9ab-5229ee8da1e8"
      },
      "outputs": [],
      "source": [
        "del SN_name[0]\n",
        "del SN_host[0]\n",
        "del SN_redshift[0]\n",
        "del SN_type[0]\n",
        "del SN_mag[0]"
      ]
    },
    {
      "cell_type": "markdown",
      "id": "19f102c6-4900-4355-b747-b4812714330e",
      "metadata": {
        "id": "19f102c6-4900-4355-b747-b4812714330e"
      },
      "source": [
        "**(E)** Assume the supernovae events to be sorted by age. The first one is the youngest and the last one the oldest.\n",
        "Sort the list such that the values for the oldest supernova (SN 1987A) are the first list elements.\n",
        "Do a final check by printing the reversed list the same way as before!"
      ]
    },
    {
      "cell_type": "code",
      "execution_count": null,
      "id": "26762123-2aec-42b9-875a-6010b19d3591",
      "metadata": {
        "id": "26762123-2aec-42b9-875a-6010b19d3591",
        "outputId": "a8b0e355-1f92-485c-ed49-a49210e7aa1c",
        "colab": {
          "base_uri": "https://localhost:8080/"
        }
      },
      "outputs": [
        {
          "output_type": "stream",
          "name": "stdout",
          "text": [
            "['1987A', '2023uda', '2023oho', '2023ixf', '2023fyq', '2023rve']\n"
          ]
        }
      ],
      "source": [
        "SN_name = ['2023rve', '2023fyq', '2023ixf', '2023oho', '2023uda',\"1987A\"]\n",
        "print(SN_name[::-1])"
      ]
    },
    {
      "cell_type": "markdown",
      "id": "ec82b241-63eb-4cca-b9e0-df9a735be105",
      "metadata": {
        "id": "ec82b241-63eb-4cca-b9e0-df9a735be105"
      },
      "source": [
        "# Problem 2: De Morgan's laws\n",
        "\n",
        "\n",
        "In this task, we will make use of Booleans. For that, we take a look at De Morgan's laws. The rules allow the expression of conjunctions and disjunctions purely in terms of each other via negation. The rules can be expressed as:\n",
        "\n",
        "**The negation of a disjunction is the conjunction of the negations**\n",
        "\n",
        "                                    ¬(A ∧ B) = ¬A ∨ ¬B\n",
        "\n",
        "and\n",
        "\n",
        "**The negation of a conjunction is the disjunction of the negations**\n",
        "\n",
        "                                    ¬(A ∨ B) = ¬A ∧ ¬B,\n",
        "\n",
        "where\n",
        "¬ is the negation logic operator (NOT),\n",
        "∧  is the conjunction logic operator (AND),\n",
        "∨ is the disjunction logic operator (OR).\n",
        "\n",
        "Prove with the help of Booleans that the rules apply.\n",
        "\n",
        "Hint: You can start with A = True as a true statement and B = False as a false statement."
      ]
    },
    {
      "cell_type": "code",
      "execution_count": null,
      "id": "1b9f447b-db84-4520-a0b1-f2c37394f757",
      "metadata": {
        "id": "1b9f447b-db84-4520-a0b1-f2c37394f757",
        "outputId": "13243671-accd-4cb4-8c40-9b14d91a6997",
        "colab": {
          "base_uri": "https://localhost:8080/"
        }
      },
      "outputs": [
        {
          "output_type": "stream",
          "name": "stdout",
          "text": [
            "True\n",
            "True\n"
          ]
        }
      ],
      "source": [
        "A=True\n",
        "B=True\n",
        "c = not(A and B)\n",
        "d = not A or not B\n",
        "e= not(A or B)\n",
        "f= not A and not B\n",
        "print(c == d)\n",
        "print(e==f)"
      ]
    },
    {
      "cell_type": "markdown",
      "id": "f7edbbc5-7d11-49ff-b820-87a564e2bdb9",
      "metadata": {
        "id": "f7edbbc5-7d11-49ff-b820-87a564e2bdb9"
      },
      "source": [
        "# Problem 3: For Loops and conditional statements"
      ]
    },
    {
      "cell_type": "markdown",
      "id": "bbfc5aa4-e264-417f-bf1e-404a77816375",
      "metadata": {
        "id": "bbfc5aa4-e264-417f-bf1e-404a77816375"
      },
      "source": [
        "In this task you will learn to work with For Loops and also the combination of For Loops and If statements. We will start with the list below.\n",
        "\n",
        "**(A)** Write a code to sum up every single element from the list by using a For Loop."
      ]
    },
    {
      "cell_type": "code",
      "execution_count": null,
      "id": "afe3a5f1-3f96-4767-a0e8-c45abc11b0de",
      "metadata": {
        "id": "afe3a5f1-3f96-4767-a0e8-c45abc11b0de"
      },
      "outputs": [],
      "source": [
        "L = [2, -6, -4, 1, 0, -9, 0, 3, 0, -7, -9, 5]"
      ]
    },
    {
      "cell_type": "code",
      "execution_count": null,
      "id": "c8d9bbca-ba37-4458-aa99-bc1f740d4cbe",
      "metadata": {
        "id": "c8d9bbca-ba37-4458-aa99-bc1f740d4cbe",
        "outputId": "5eb7039a-842b-4ee7-ae7d-2302b8c06320",
        "colab": {
          "base_uri": "https://localhost:8080/"
        }
      },
      "outputs": [
        {
          "output_type": "stream",
          "name": "stdout",
          "text": [
            "sum -24\n"
          ]
        }
      ],
      "source": [
        "sum = 0\n",
        "for n in L:\n",
        "   sum = sum +n\n",
        "\n",
        "print(\"sum\", sum)\n"
      ]
    },
    {
      "cell_type": "markdown",
      "id": "9990a3fc-a357-4e63-96e3-44d02981fc05",
      "metadata": {
        "id": "9990a3fc-a357-4e63-96e3-44d02981fc05"
      },
      "source": [
        "**(B)**\n",
        "In this task, we would like to get information about the sign of the values.\n",
        "\n",
        "Write a code which counts the amount of positve values of list L."
      ]
    },
    {
      "cell_type": "code",
      "execution_count": null,
      "id": "364e56d9-bbc5-4173-af02-e1e631be65ef",
      "metadata": {
        "id": "364e56d9-bbc5-4173-af02-e1e631be65ef",
        "outputId": "54e3b6c8-e546-4f37-9088-c6ddc2d1c54f",
        "colab": {
          "base_uri": "https://localhost:8080/"
        }
      },
      "outputs": [
        {
          "output_type": "stream",
          "name": "stdout",
          "text": [
            "7\n"
          ]
        }
      ],
      "source": [
        "sum = 0\n",
        "for n in L:\n",
        " if n >= 0 :\n",
        "   sum +=1\n",
        "print(sum)"
      ]
    }
  ],
  "metadata": {
    "kernelspec": {
      "display_name": "Python 3 (ipykernel)",
      "language": "python",
      "name": "python3"
    },
    "language_info": {
      "codemirror_mode": {
        "name": "ipython",
        "version": 3
      },
      "file_extension": ".py",
      "mimetype": "text/x-python",
      "name": "python",
      "nbconvert_exporter": "python",
      "pygments_lexer": "ipython3",
      "version": "3.11.5"
    },
    "colab": {
      "provenance": [],
      "toc_visible": true,
      "include_colab_link": true
    }
  },
  "nbformat": 4,
  "nbformat_minor": 5
}